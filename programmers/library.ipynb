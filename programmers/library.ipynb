{
 "cells": [
  {
   "cell_type": "markdown",
   "metadata": {},
   "source": [
    "## 암기 필요 함수"
   ]
  },
  {
   "cell_type": "code",
   "execution_count": 1,
   "metadata": {},
   "outputs": [
    {
     "name": "stdout",
     "output_type": "stream",
     "text": [
      "1200\n"
     ]
    }
   ],
   "source": [
    "def radixChange(num, radix):\n",
    "    if num == 0: return '0'\n",
    "\n",
    "    formatted_num = []\n",
    "    while(num):\n",
    "        num, digit = divmod(num, radix)\n",
    "        formatted_num.append(str(digit))\n",
    "\n",
    "    return ''.join(reversed(formatted_num))\n",
    "\n",
    "print(radixChange(45, 3))"
   ]
  },
  {
   "cell_type": "code",
   "execution_count": 3,
   "metadata": {},
   "outputs": [
    {
     "name": "stdout",
     "output_type": "stream",
     "text": [
      "[[1, 2], [1, 3], [2, 1], [2, 3], [3, 1], [3, 2]]\n"
     ]
    }
   ],
   "source": [
    "def permutation(arr, n):\n",
    "    result = []\n",
    "    if n == 0: return [[]]\n",
    "\n",
    "    for i, num in enumerate(arr):\n",
    "        # 현재 값을 제외한 것들 중 n-1개 선택\n",
    "        for j in permutation(arr[:i] + arr[i+1:], n - 1):\n",
    "            result.append([num] + j)\n",
    "    \n",
    "    return result\n",
    "\n",
    "print(permutation([1, 2, 3], 2))"
   ]
  },
  {
   "cell_type": "code",
   "execution_count": 1,
   "metadata": {},
   "outputs": [
    {
     "name": "stdout",
     "output_type": "stream",
     "text": [
      "[[1, 1], [1, 2], [1, 3], [2, 1], [2, 2], [2, 3], [3, 1], [3, 2], [3, 3]]\n"
     ]
    }
   ],
   "source": [
    "def product(arr, n):\n",
    "    result = []\n",
    "    if n == 0: return [[]]\n",
    "\n",
    "    for _, num in enumerate(arr):\n",
    "        for j in product(arr, n - 1):\n",
    "            result.append([num] + j)\n",
    "    \n",
    "    return result\n",
    "\n",
    "print(product([1, 2, 3], 2))"
   ]
  },
  {
   "cell_type": "code",
   "execution_count": 2,
   "metadata": {},
   "outputs": [
    {
     "name": "stdout",
     "output_type": "stream",
     "text": [
      "[[1, 2], [1, 3], [2, 3]]\n"
     ]
    }
   ],
   "source": [
    "def combination(arr, n):\n",
    "    result = []\n",
    "    if n == 0: return [[]]\n",
    "    \n",
    "    for i, num in enumerate(arr):\n",
    "        # 이전부터 현재 값을 제외한 것들 중 n-1개 선택\n",
    "        for j in combination(arr[i+1:], n - 1):\n",
    "            result.append([num] + j)\n",
    "    \n",
    "    return result\n",
    "\n",
    "print(combination([1, 2, 3], 2))"
   ]
  },
  {
   "cell_type": "code",
   "execution_count": 4,
   "metadata": {},
   "outputs": [
    {
     "name": "stdout",
     "output_type": "stream",
     "text": [
      "[[1, 1], [1, 2], [1, 3], [2, 2], [2, 3], [3, 3]]\n"
     ]
    }
   ],
   "source": [
    "def combination_with_replacement(arr, n):\n",
    "    result = []\n",
    "    if n == 0: return [[]]\n",
    "\n",
    "    for i, num in enumerate(arr):\n",
    "        for j in combination_with_replacement(arr[i:], n - 1):\n",
    "            result.append([num] + j)\n",
    "    \n",
    "    return result\n",
    "\n",
    "print(combination_with_replacement([1, 2, 3], 2))"
   ]
  },
  {
   "cell_type": "code",
   "execution_count": null,
   "metadata": {},
   "outputs": [],
   "source": []
  }
 ],
 "metadata": {
  "kernelspec": {
   "display_name": "Python 3",
   "language": "python",
   "name": "python3"
  },
  "language_info": {
   "codemirror_mode": {
    "name": "ipython",
    "version": 3
   },
   "file_extension": ".py",
   "mimetype": "text/x-python",
   "name": "python",
   "nbconvert_exporter": "python",
   "pygments_lexer": "ipython3",
   "version": "3.8.10"
  }
 },
 "nbformat": 4,
 "nbformat_minor": 2
}
