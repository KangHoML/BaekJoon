{
 "cells": [
  {
   "cell_type": "markdown",
   "metadata": {},
   "source": [
    "### 1. 퀵 정렬"
   ]
  },
  {
   "cell_type": "code",
   "execution_count": 1,
   "metadata": {},
   "outputs": [],
   "source": [
    "def quickSort(data):\n",
    "    if len(data) <= 1: return data\n",
    "\n",
    "    pivot, others = data[0], data[1:]\n",
    "\n",
    "    left = [i for i in others if i < pivot] # 기준보다 작은 숫자\n",
    "    right = [i for i in others if i > pivot] # 기준보다 큰 숫자\n",
    "\n",
    "    return [*quickSort(left), pivot, *quickSort(right)]"
   ]
  },
  {
   "cell_type": "code",
   "execution_count": 2,
   "metadata": {},
   "outputs": [
    {
     "name": "stdout",
     "output_type": "stream",
     "text": [
      "[0, 1, 2, 3, 4, 5, 6, 7, 8, 9]\n"
     ]
    }
   ],
   "source": [
    "sample = [3, 0, 1, 8, 7, 2, 5, 4, 6, 9]\n",
    "print(quickSort(sample))"
   ]
  },
  {
   "cell_type": "markdown",
   "metadata": {},
   "source": [
    "### 2. 병합 정렬"
   ]
  },
  {
   "cell_type": "code",
   "execution_count": 3,
   "metadata": {},
   "outputs": [],
   "source": [
    "def merge(left, right):\n",
    "    result = []\n",
    "\n",
    "    while len(left) > 0 and len(right) > 0:\n",
    "        if left[0] <= right[0]:\n",
    "            result.append(left.pop(0))\n",
    "        else:\n",
    "            result.append(right.pop(0))\n",
    "    \n",
    "    result.extend([*left, *right])\n",
    "    return result\n",
    "\n",
    "def mergeSort(data):\n",
    "    if len(data) <= 1: return data\n",
    "    \n",
    "    mid = len(data) // 2\n",
    "    left = mergeSort(data[:mid])\n",
    "    right = mergeSort(data[mid:])\n",
    "    \n",
    "    return merge(left, right)\n"
   ]
  },
  {
   "cell_type": "code",
   "execution_count": 6,
   "metadata": {},
   "outputs": [
    {
     "name": "stdout",
     "output_type": "stream",
     "text": [
      "[0, 1, 2, 3, 4, 5, 6, 7, 8, 9]\n"
     ]
    }
   ],
   "source": [
    "sample = [3, 0, 1, 8, 7, 2, 5, 4, 6, 9]\n",
    "print(mergeSort(sample))"
   ]
  },
  {
   "cell_type": "markdown",
   "metadata": {},
   "source": [
    "### 3. 트리 정렬"
   ]
  },
  {
   "cell_type": "code",
   "execution_count": 8,
   "metadata": {},
   "outputs": [],
   "source": [
    "class Node:\n",
    "    def __init__(self, key=0):\n",
    "        self.key = key\n",
    "        self.left, self.right = None, None\n",
    "\n",
    "def insert(root, key):\n",
    "    if root is None:\n",
    "        root = Node(key)\n",
    "        return root\n",
    "    \n",
    "    if key < root.key:\n",
    "        root.left = insert(root.left, key)\n",
    "    else:\n",
    "        root.right = insert(root.right, key)\n",
    "    \n",
    "    return root\n",
    "\n",
    "def inorder(root, answer):\n",
    "    if root is not None:\n",
    "        inorder(root.left, answer)\n",
    "        answer.append(root.key)\n",
    "        inorder(root.right, answer)\n",
    "\n",
    "def treeSort(data):\n",
    "    root = Node()\n",
    "\n",
    "    # 트리에 넣기\n",
    "    for key in data: root = insert(root, key)\n",
    "\n",
    "    # left -> center -> right 순서로 읽기\n",
    "    answer = []\n",
    "    inorder(root, answer)\n",
    "\n",
    "    return answer[1:]"
   ]
  },
  {
   "cell_type": "code",
   "execution_count": 11,
   "metadata": {},
   "outputs": [
    {
     "name": "stdout",
     "output_type": "stream",
     "text": [
      "[3, 0, 1, 8, 7, 2, 5, 4, 6, 9]\n",
      "[0, 1, 2, 3, 4, 5, 6, 7, 8, 9]\n"
     ]
    }
   ],
   "source": [
    "sample = [3, 0, 1, 8, 7, 2, 5, 4, 6, 9]\n",
    "print(treeSort(sample))"
   ]
  },
  {
   "cell_type": "markdown",
   "metadata": {},
   "source": [
    "### 4. 힙 정렬"
   ]
  },
  {
   "cell_type": "code",
   "execution_count": 22,
   "metadata": {},
   "outputs": [],
   "source": [
    "def heapify(data, n, i):\n",
    "    mx = i\n",
    "    left, right = 2 * i + 1, 2 * i + 2\n",
    "\n",
    "    # vs. 왼쪽 자식\n",
    "    if left < n and data[i] < data[left]: mx = left\n",
    "    \n",
    "    # vs. 오른쪽 자식\n",
    "    if right < n and data[mx] < data[right]: mx = right\n",
    "\n",
    "    if mx != i:\n",
    "        data[i], data[mx] = data[mx], data[i]\n",
    "        heapify(data, n, mx)\n",
    "\n",
    "def heapSort(data):\n",
    "    copied_data = data[:]\n",
    "    n = len(copied_data)\n",
    "\n",
    "    # 힙 구조화\n",
    "    for i in range(n, -1, -1):\n",
    "        heapify(copied_data, n, i)\n",
    "\n",
    "    # 0번째 인덱스가 최대값이므로 마지막으로 옮겨줌\n",
    "    for i in range(n - 1, 0, -1):\n",
    "        copied_data[i], copied_data[0] = copied_data[0], copied_data[i]\n",
    "        heapify(copied_data, i, 0)\n",
    "    \n",
    "    return copied_data"
   ]
  },
  {
   "cell_type": "code",
   "execution_count": 23,
   "metadata": {},
   "outputs": [],
   "source": [
    "# 라이브러리를 통해 구현\n",
    "from heapq import heappush, heappop\n",
    "\n",
    "def heapSort2(iterable):\n",
    "    h = []\n",
    "    for v in iterable: heappush(h, v)\n",
    "    return [heappop(h) for _ in range(len(h))]"
   ]
  },
  {
   "cell_type": "code",
   "execution_count": 24,
   "metadata": {},
   "outputs": [
    {
     "name": "stdout",
     "output_type": "stream",
     "text": [
      "[0, 1, 2, 3, 4, 5, 6, 7, 8, 9]\n",
      "[0, 1, 2, 3, 4, 5, 6, 7, 8, 9]\n"
     ]
    }
   ],
   "source": [
    "sample = [3, 0, 1, 8, 7, 2, 5, 4, 6, 9]\n",
    "print(heapSort(sample))\n",
    "print(heapSort2(sample))"
   ]
  },
  {
   "cell_type": "markdown",
   "metadata": {},
   "source": [
    "### 5.기수 정렬"
   ]
  },
  {
   "cell_type": "code",
   "execution_count": 25,
   "metadata": {},
   "outputs": [],
   "source": [
    "def countingSort(data, digit):\n",
    "    n = len(data)\n",
    "\n",
    "    output = [0] * n\n",
    "    count = [0] * 10\n",
    "\n",
    "    # 자리수의 숫자에 따른 개수 기록\n",
    "    for i in range(0, n):\n",
    "        idx = data[i] // digit\n",
    "        count[idx % 10] += 1\n",
    "\n",
    "    # 각 숫자가 정렬된 배열에 들어갈 위치를 알기 위해 누적 합    \n",
    "    for i in range(1, 10):\n",
    "        count[i] += count[i-1]\n",
    "\n",
    "    i = n - 1\n",
    "    while i >= 0:\n",
    "        idx = data[i] // digit\n",
    "        output[count[idx % 10] - 1] = data[i]\n",
    "        count[idx % 10] -= 1\n",
    "        i -= 1\n",
    "\n",
    "    return output\n",
    "\n",
    "def radixSort(data):\n",
    "    copied_data = data[:]\n",
    "    \n",
    "    digit = 1\n",
    "    while max(data) // digit > 0:\n",
    "        copied_data = countingSort(copied_data, digit)\n",
    "        digit *= 10\n",
    "    \n",
    "    return copied_data"
   ]
  },
  {
   "cell_type": "code",
   "execution_count": 26,
   "metadata": {},
   "outputs": [
    {
     "name": "stdout",
     "output_type": "stream",
     "text": [
      "[0, 1, 2, 3, 4, 5, 6, 7, 8, 9]\n"
     ]
    }
   ],
   "source": [
    "sample = [3, 0, 1, 8, 7, 2, 5, 4, 6, 9]\n",
    "print(radixSort(sample))"
   ]
  },
  {
   "cell_type": "code",
   "execution_count": null,
   "metadata": {},
   "outputs": [],
   "source": []
  }
 ],
 "metadata": {
  "kernelspec": {
   "display_name": "Python 3",
   "language": "python",
   "name": "python3"
  },
  "language_info": {
   "codemirror_mode": {
    "name": "ipython",
    "version": 3
   },
   "file_extension": ".py",
   "mimetype": "text/x-python",
   "name": "python",
   "nbconvert_exporter": "python",
   "pygments_lexer": "ipython3",
   "version": "3.8.10"
  }
 },
 "nbformat": 4,
 "nbformat_minor": 2
}
